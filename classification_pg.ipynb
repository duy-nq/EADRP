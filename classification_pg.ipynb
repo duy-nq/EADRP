{
 "cells": [
  {
   "cell_type": "markdown",
   "metadata": {},
   "source": [
    "# Import Libraries"
   ]
  },
  {
   "cell_type": "code",
   "execution_count": 1,
   "metadata": {},
   "outputs": [
    {
     "ename": "ImportError",
     "evalue": "DLL load failed while importing _imaging: The specified module could not be found.",
     "output_type": "error",
     "traceback": [
      "\u001b[1;31m---------------------------------------------------------------------------\u001b[0m",
      "\u001b[1;31mImportError\u001b[0m                               Traceback (most recent call last)",
      "Cell \u001b[1;32mIn[1], line 10\u001b[0m\n\u001b[0;32m      7\u001b[0m \u001b[38;5;28;01mfrom\u001b[39;00m \u001b[38;5;21;01msklearn\u001b[39;00m\u001b[38;5;21;01m.\u001b[39;00m\u001b[38;5;21;01msvm\u001b[39;00m \u001b[38;5;28;01mimport\u001b[39;00m SVC\n\u001b[0;32m      9\u001b[0m \u001b[38;5;28;01mimport\u001b[39;00m \u001b[38;5;21;01mpandas\u001b[39;00m \u001b[38;5;28;01mas\u001b[39;00m \u001b[38;5;21;01mpd\u001b[39;00m\n\u001b[1;32m---> 10\u001b[0m \u001b[38;5;28;01mimport\u001b[39;00m \u001b[38;5;21;01mmatplotlib\u001b[39;00m\u001b[38;5;21;01m.\u001b[39;00m\u001b[38;5;21;01mpyplot\u001b[39;00m \u001b[38;5;28;01mas\u001b[39;00m \u001b[38;5;21;01mplt\u001b[39;00m\n\u001b[0;32m     11\u001b[0m \u001b[38;5;28;01mimport\u001b[39;00m \u001b[38;5;21;01mseaborn\u001b[39;00m \u001b[38;5;28;01mas\u001b[39;00m \u001b[38;5;21;01msns\u001b[39;00m\n\u001b[0;32m     12\u001b[0m \u001b[38;5;28;01mimport\u001b[39;00m \u001b[38;5;21;01mnumpy\u001b[39;00m \u001b[38;5;28;01mas\u001b[39;00m \u001b[38;5;21;01mnp\u001b[39;00m\n",
      "File \u001b[1;32md:\\Anaconda\\Lib\\site-packages\\matplotlib\\__init__.py:161\u001b[0m\n\u001b[0;32m    157\u001b[0m \u001b[38;5;28;01mfrom\u001b[39;00m \u001b[38;5;21;01mpackaging\u001b[39;00m\u001b[38;5;21;01m.\u001b[39;00m\u001b[38;5;21;01mversion\u001b[39;00m \u001b[38;5;28;01mimport\u001b[39;00m parse \u001b[38;5;28;01mas\u001b[39;00m parse_version\n\u001b[0;32m    159\u001b[0m \u001b[38;5;66;03m# cbook must import matplotlib only within function\u001b[39;00m\n\u001b[0;32m    160\u001b[0m \u001b[38;5;66;03m# definitions, so it is safe to import from it here.\u001b[39;00m\n\u001b[1;32m--> 161\u001b[0m \u001b[38;5;28;01mfrom\u001b[39;00m \u001b[38;5;21;01m.\u001b[39;00m \u001b[38;5;28;01mimport\u001b[39;00m _api, _version, cbook, _docstring, rcsetup\n\u001b[0;32m    162\u001b[0m \u001b[38;5;28;01mfrom\u001b[39;00m \u001b[38;5;21;01mmatplotlib\u001b[39;00m\u001b[38;5;21;01m.\u001b[39;00m\u001b[38;5;21;01mcbook\u001b[39;00m \u001b[38;5;28;01mimport\u001b[39;00m sanitize_sequence\n\u001b[0;32m    163\u001b[0m \u001b[38;5;28;01mfrom\u001b[39;00m \u001b[38;5;21;01mmatplotlib\u001b[39;00m\u001b[38;5;21;01m.\u001b[39;00m\u001b[38;5;21;01m_api\u001b[39;00m \u001b[38;5;28;01mimport\u001b[39;00m MatplotlibDeprecationWarning\n",
      "File \u001b[1;32md:\\Anaconda\\Lib\\site-packages\\matplotlib\\rcsetup.py:27\u001b[0m\n\u001b[0;32m     25\u001b[0m \u001b[38;5;28;01mfrom\u001b[39;00m \u001b[38;5;21;01mmatplotlib\u001b[39;00m \u001b[38;5;28;01mimport\u001b[39;00m _api, cbook\n\u001b[0;32m     26\u001b[0m \u001b[38;5;28;01mfrom\u001b[39;00m \u001b[38;5;21;01mmatplotlib\u001b[39;00m\u001b[38;5;21;01m.\u001b[39;00m\u001b[38;5;21;01mcbook\u001b[39;00m \u001b[38;5;28;01mimport\u001b[39;00m ls_mapper\n\u001b[1;32m---> 27\u001b[0m \u001b[38;5;28;01mfrom\u001b[39;00m \u001b[38;5;21;01mmatplotlib\u001b[39;00m\u001b[38;5;21;01m.\u001b[39;00m\u001b[38;5;21;01mcolors\u001b[39;00m \u001b[38;5;28;01mimport\u001b[39;00m Colormap, is_color_like\n\u001b[0;32m     28\u001b[0m \u001b[38;5;28;01mfrom\u001b[39;00m \u001b[38;5;21;01mmatplotlib\u001b[39;00m\u001b[38;5;21;01m.\u001b[39;00m\u001b[38;5;21;01m_fontconfig_pattern\u001b[39;00m \u001b[38;5;28;01mimport\u001b[39;00m parse_fontconfig_pattern\n\u001b[0;32m     29\u001b[0m \u001b[38;5;28;01mfrom\u001b[39;00m \u001b[38;5;21;01mmatplotlib\u001b[39;00m\u001b[38;5;21;01m.\u001b[39;00m\u001b[38;5;21;01m_enums\u001b[39;00m \u001b[38;5;28;01mimport\u001b[39;00m JoinStyle, CapStyle\n",
      "File \u001b[1;32md:\\Anaconda\\Lib\\site-packages\\matplotlib\\colors.py:52\u001b[0m\n\u001b[0;32m     49\u001b[0m \u001b[38;5;28;01mfrom\u001b[39;00m \u001b[38;5;21;01mnumbers\u001b[39;00m \u001b[38;5;28;01mimport\u001b[39;00m Real\n\u001b[0;32m     50\u001b[0m \u001b[38;5;28;01mimport\u001b[39;00m \u001b[38;5;21;01mre\u001b[39;00m\n\u001b[1;32m---> 52\u001b[0m \u001b[38;5;28;01mfrom\u001b[39;00m \u001b[38;5;21;01mPIL\u001b[39;00m \u001b[38;5;28;01mimport\u001b[39;00m Image\n\u001b[0;32m     53\u001b[0m \u001b[38;5;28;01mfrom\u001b[39;00m \u001b[38;5;21;01mPIL\u001b[39;00m\u001b[38;5;21;01m.\u001b[39;00m\u001b[38;5;21;01mPngImagePlugin\u001b[39;00m \u001b[38;5;28;01mimport\u001b[39;00m PngInfo\n\u001b[0;32m     55\u001b[0m \u001b[38;5;28;01mimport\u001b[39;00m \u001b[38;5;21;01mmatplotlib\u001b[39;00m \u001b[38;5;28;01mas\u001b[39;00m \u001b[38;5;21;01mmpl\u001b[39;00m\n",
      "File \u001b[1;32md:\\Anaconda\\Lib\\site-packages\\PIL\\Image.py:100\u001b[0m\n\u001b[0;32m     91\u001b[0m MAX_IMAGE_PIXELS: \u001b[38;5;28mint\u001b[39m \u001b[38;5;241m|\u001b[39m \u001b[38;5;28;01mNone\u001b[39;00m \u001b[38;5;241m=\u001b[39m \u001b[38;5;28mint\u001b[39m(\u001b[38;5;241m1024\u001b[39m \u001b[38;5;241m*\u001b[39m \u001b[38;5;241m1024\u001b[39m \u001b[38;5;241m*\u001b[39m \u001b[38;5;241m1024\u001b[39m \u001b[38;5;241m/\u001b[39m\u001b[38;5;241m/\u001b[39m \u001b[38;5;241m4\u001b[39m \u001b[38;5;241m/\u001b[39m\u001b[38;5;241m/\u001b[39m \u001b[38;5;241m3\u001b[39m)\n\u001b[0;32m     94\u001b[0m \u001b[38;5;28;01mtry\u001b[39;00m:\n\u001b[0;32m     95\u001b[0m     \u001b[38;5;66;03m# If the _imaging C module is not present, Pillow will not load.\u001b[39;00m\n\u001b[0;32m     96\u001b[0m     \u001b[38;5;66;03m# Note that other modules should not refer to _imaging directly;\u001b[39;00m\n\u001b[0;32m     97\u001b[0m     \u001b[38;5;66;03m# import Image and use the Image.core variable instead.\u001b[39;00m\n\u001b[0;32m     98\u001b[0m     \u001b[38;5;66;03m# Also note that Image.core is not a publicly documented interface,\u001b[39;00m\n\u001b[0;32m     99\u001b[0m     \u001b[38;5;66;03m# and should be considered private and subject to change.\u001b[39;00m\n\u001b[1;32m--> 100\u001b[0m     \u001b[38;5;28;01mfrom\u001b[39;00m \u001b[38;5;21;01m.\u001b[39;00m \u001b[38;5;28;01mimport\u001b[39;00m _imaging \u001b[38;5;28;01mas\u001b[39;00m core\n\u001b[0;32m    102\u001b[0m     \u001b[38;5;28;01mif\u001b[39;00m __version__ \u001b[38;5;241m!=\u001b[39m \u001b[38;5;28mgetattr\u001b[39m(core, \u001b[38;5;124m\"\u001b[39m\u001b[38;5;124mPILLOW_VERSION\u001b[39m\u001b[38;5;124m\"\u001b[39m, \u001b[38;5;28;01mNone\u001b[39;00m):\n\u001b[0;32m    103\u001b[0m         msg \u001b[38;5;241m=\u001b[39m (\n\u001b[0;32m    104\u001b[0m             \u001b[38;5;124m\"\u001b[39m\u001b[38;5;124mThe _imaging extension was built for another version of Pillow or PIL:\u001b[39m\u001b[38;5;130;01m\\n\u001b[39;00m\u001b[38;5;124m\"\u001b[39m\n\u001b[0;32m    105\u001b[0m             \u001b[38;5;124mf\u001b[39m\u001b[38;5;124m\"\u001b[39m\u001b[38;5;124mCore version: \u001b[39m\u001b[38;5;132;01m{\u001b[39;00m\u001b[38;5;28mgetattr\u001b[39m(core,\u001b[38;5;250m \u001b[39m\u001b[38;5;124m'\u001b[39m\u001b[38;5;124mPILLOW_VERSION\u001b[39m\u001b[38;5;124m'\u001b[39m,\u001b[38;5;250m \u001b[39m\u001b[38;5;28;01mNone\u001b[39;00m)\u001b[38;5;132;01m}\u001b[39;00m\u001b[38;5;130;01m\\n\u001b[39;00m\u001b[38;5;124m\"\u001b[39m\n\u001b[0;32m    106\u001b[0m             \u001b[38;5;124mf\u001b[39m\u001b[38;5;124m\"\u001b[39m\u001b[38;5;124mPillow version: \u001b[39m\u001b[38;5;132;01m{\u001b[39;00m__version__\u001b[38;5;132;01m}\u001b[39;00m\u001b[38;5;124m\"\u001b[39m\n\u001b[0;32m    107\u001b[0m         )\n",
      "\u001b[1;31mImportError\u001b[0m: DLL load failed while importing _imaging: The specified module could not be found."
     ]
    }
   ],
   "source": [
    "from sklearn.metrics import accuracy_score\n",
    "from sklearn.model_selection import RandomizedSearchCV, cross_val_score, train_test_split, KFold\n",
    "from sklearn.preprocessing import MinMaxScaler\n",
    "\n",
    "from sklearn.linear_model import LogisticRegression\n",
    "from sklearn.ensemble import AdaBoostClassifier, RandomForestClassifier\n",
    "from sklearn.svm import SVC\n",
    "\n",
    "import pandas as pd\n",
    "import matplotlib.pyplot as plt\n",
    "import seaborn as sns\n",
    "import numpy as np\n",
    "import pickle"
   ]
  },
  {
   "cell_type": "markdown",
   "metadata": {},
   "source": [
    "# Fake configs"
   ]
  },
  {
   "cell_type": "code",
   "execution_count": null,
   "metadata": {},
   "outputs": [],
   "source": [
    "config = {\n",
    "    'car_name': 'ev_golf',\n",
    "    'seed': 23,\n",
    "    'num_folds': 5,\n",
    "    'dataset': '',\n",
    "    'threshold': 30\n",
    "}"
   ]
  },
  {
   "cell_type": "markdown",
   "metadata": {},
   "source": [
    "# Constants"
   ]
  },
  {
   "cell_type": "code",
   "execution_count": null,
   "metadata": {},
   "outputs": [],
   "source": [
    "FILE_PATH = './dataset/{name}.csv'.format(name=config['car_name'])\n",
    "OUT_PATH = './model/{name}'.format(name=config['car_name'])\n",
    "SEED = config['seed']\n",
    "NUM_FOLDS = config['num_folds']\n",
    "MODEL_LIST = [\n",
    "    'Logistic Regression',\n",
    "    'SVC',\n",
    "    'Random Forest C',\n",
    "    'AdaBoost C'\n",
    "]\n",
    "\n",
    "LR_PARAMS = {\n",
    "    'penalty': ['l1', 'l2', 'elasticnet', None],\n",
    "    'multi_class': ['ovr', 'multinomial'],\n",
    "    'C': np.linspace(0.001, 5, 2),\n",
    "    'l1_ratio': np.linspace(0, 1, 2)\n",
    "}\n",
    "\n",
    "SVM_PARAMS = {\n",
    "    'kernel': ['linear', 'poly', 'rbf', 'sigmoid'],\n",
    "    'C': np.linspace(0.001, 1, 2),\n",
    "    'gamma': np.linspace(0.001, 1, 2)\n",
    "}\n",
    "\n",
    "RF_PARAMS = {\n",
    "    'max_features':[2,3],\n",
    "    'min_samples_leaf':[2]\n",
    "}\n",
    "\n",
    "AB_PARAMS = {\n",
    "    'learning_rate': np.linspace(0.001, 0.8, 2),\n",
    "    'n_estimators': [50]\n",
    "}\n"
   ]
  },
  {
   "cell_type": "markdown",
   "metadata": {},
   "source": [
    "# Functions"
   ]
  },
  {
   "cell_type": "markdown",
   "metadata": {},
   "source": [
    "## Data processing"
   ]
  },
  {
   "cell_type": "code",
   "execution_count": null,
   "metadata": {},
   "outputs": [],
   "source": [
    "def process_data():\n",
    "    df = pd.read_csv(FILE_PATH)\n",
    "    col = ['consumption(kWh/100km)','manufacturer','model','version','fuel_date','fuel_type','power(kW)']\n",
    "    for i in col:\n",
    "        if i in df.columns:\n",
    "            df = df.drop(i,axis=1)\n",
    "    df['encoded_driving_style']  = df['encoded_driving_style'].astype('int')\n",
    "    df['park_heating']  = df['park_heating'].astype('int')\n",
    "\n",
    "    df['ecr_dev_type'] = df['ecr_deviation'].apply(lambda x: 1 if x >= 0 else 0 )\n",
    "    df.drop('ecr_deviation',axis=1,inplace=True)\n",
    "\n",
    "    return df"
   ]
  },
  {
   "cell_type": "markdown",
   "metadata": {},
   "source": [
    "## Spliting Data (80/20)"
   ]
  },
  {
   "cell_type": "code",
   "execution_count": null,
   "metadata": {},
   "outputs": [],
   "source": [
    "def split_data(df: pd.DataFrame):\n",
    "    def scaler_x(data):\n",
    "        scaler = MinMaxScaler()\n",
    "        return scaler.fit_transform(data)\n",
    "    \n",
    "    def scaler_y(data):\n",
    "        scaler = MinMaxScaler()\n",
    "        return scaler.fit_transform(data.reshape(-1, 1))\n",
    "    \n",
    "    train, test  = train_test_split(df, test_size = 0.2, random_state = SEED)\n",
    "\n",
    "    y_train = train['ecr_dev_type']\n",
    "    X_train = train.drop('ecr_dev_type',axis=1)\n",
    "\n",
    "    y_test = test['ecr_dev_type']\n",
    "    X_test = test.drop('ecr_dev_type',axis=1)\n",
    "\n",
    "    y_train = y_train.values\n",
    "    y_test = y_test.values\n",
    "\n",
    "    return scaler_x(X_train), scaler_y(y_train), scaler_x(X_test), scaler_y(y_test)"
   ]
  },
  {
   "cell_type": "markdown",
   "metadata": {},
   "source": [
    "## Basic training"
   ]
  },
  {
   "cell_type": "code",
   "execution_count": null,
   "metadata": {},
   "outputs": [],
   "source": [
    "def basic_train(models, X_train, y_train, is_plot: bool):\n",
    "    def plot():\n",
    "        train_score = pd.DataFrame(data = training_score, columns = ['Training_Accuracy'])\n",
    "        train_score.index = ['LR',  'SVM',  'RF', 'AB']\n",
    "        train_score = train_score.sort_values(by = 'Training_Accuracy')\n",
    "\n",
    "        plt.figure(figsize=(15, 5))\n",
    "        sns.barplot(x=train_score.index, y='Training_Accuracy', data=train_score,palette=\"rocket\")\n",
    "        plt.xlabel('Models')\n",
    "        plt.ylabel('Training_Accuracy')\n",
    "        plt.title('Training_Accuracy vs Models')\n",
    "    \n",
    "    training_score = []\n",
    "    for model in models:\n",
    "        model.fit(X_train,y_train)\n",
    "        y_pred_train = model.predict(X_train)\n",
    "        train_mse = accuracy_score(y_train, y_pred_train)\n",
    "        training_score.append(train_mse)\n",
    "    \n",
    "    if is_plot:\n",
    "        plot()\n",
    "\n",
    "    return models\n"
   ]
  },
  {
   "cell_type": "markdown",
   "metadata": {},
   "source": [
    "## Cross Validation"
   ]
  },
  {
   "cell_type": "code",
   "execution_count": null,
   "metadata": {},
   "outputs": [],
   "source": [
    "def cv_train(models, X_train, y_train, is_plot: bool):\n",
    "    def cross_validation(model, X_train, y_train):\n",
    "        kf = KFold(n_splits=NUM_FOLDS, shuffle=True, random_state=SEED)\n",
    "        \n",
    "        neg_x_val_score = cross_val_score(model, X_train, y_train, cv = kf, n_jobs = -1, scoring = 'accuracy')\n",
    "        x_val_score = np.round(neg_x_val_score, 5)\n",
    "\n",
    "        return x_val_score.mean()\n",
    "    \n",
    "    def plot():\n",
    "        x_val_score = pd.DataFrame(data = cv_score, columns = ['Cross Validation Scores (Accuracy)'])\n",
    "        x_val_score.index = ['Logistic Reg',  'SVM',  'Random Forest', 'Ada Boost']\n",
    "        x_val_score = x_val_score.round(5)\n",
    "        x_val_score  = x_val_score.sort_values(by = 'Cross Validation Scores (Accuracy)')\n",
    "\n",
    "        plt.figure(figsize=(15, 5))\n",
    "        sns.barplot(x=x_val_score.index, y='Cross Validation Scores (Accuracy)', data=x_val_score,palette=\"rocket\")\n",
    "        plt.xlabel('Models')\n",
    "        plt.ylabel('Accuracy')\n",
    "        plt.title('Cross Validation Scores (Accuracy) vs models')\n",
    "        plt.show()\n",
    "\n",
    "    cv_score = []\n",
    "    for model in models:\n",
    "        cv_score.append(cross_validation(model, X_train, y_train))\n",
    "\n",
    "    if is_plot:\n",
    "        plot()\n",
    "\n",
    "    return models\n"
   ]
  },
  {
   "cell_type": "markdown",
   "metadata": {},
   "source": [
    "## Grid Search CV"
   ]
  },
  {
   "cell_type": "code",
   "execution_count": null,
   "metadata": {},
   "outputs": [],
   "source": [
    "def gs_train(models, X_train, y_train, is_plot: bool):\n",
    "    def grid_search_cv(model, params):\n",
    "        kfold = KFold(n_splits=NUM_FOLDS, shuffle=True, random_state=SEED)\n",
    "        global best_params, best_score\n",
    "\n",
    "        grid_search = RandomizedSearchCV(\n",
    "            estimator = model, \n",
    "            param_distributions=params,\n",
    "            verbose=1,\n",
    "            n_iter=5, \n",
    "            random_state=SEED,\n",
    "            cv=kfold, \n",
    "            scoring='accuracy',\n",
    "            n_jobs = -1\n",
    "        )\n",
    "\n",
    "        grid_search.fit(X_train, y_train)\n",
    "        best_params = grid_search.best_params_\n",
    "        best_score = (np.round(grid_search.best_score_, 5))\n",
    "        \n",
    "        return best_params, best_score\n",
    "\n",
    "    def repr(name, value_1, value_2):\n",
    "        return '{} best params: {} and best score: {:0.5f}'.format(name, value_1, value_2)\n",
    "\n",
    "    def plot():\n",
    "        optimized_scores = pd.DataFrame({'Optimized Scores':[lr_best_score, svm_best_score, rf_best_score,ab_best_score] })\n",
    "        optimized_scores.index = ['Logistic Reg',  'SVM',  'Random Forest', 'Ada Boost']\n",
    "        optimized_scores = optimized_scores.sort_values(by = 'Optimized Scores')\n",
    "        optimized_scores\n",
    "        plt.figure(figsize=(15, 5))\n",
    "        sns.barplot(x=optimized_scores.index, y='Optimized Scores', data=optimized_scores,palette=\"rocket\")\n",
    "        plt.xlabel('Models')\n",
    "        plt.ylabel('Accuracy')\n",
    "        plt.title('Optimized_Accuracy vs models')\n",
    "        plt.show()\n",
    "\n",
    "    lr_best_params, lr_best_score = grid_search_cv(models[0], LR_PARAMS)\n",
    "    svm_best_params, svm_best_score = grid_search_cv(models[1], SVM_PARAMS)\n",
    "    rf_best_params, rf_best_score = grid_search_cv(models[2], RF_PARAMS)\n",
    "    ab_best_params, ab_best_score = grid_search_cv(models[3], AB_PARAMS)\n",
    "\n",
    "    if is_plot:\n",
    "        plot()\n",
    "\n",
    "    opt_model = [\n",
    "        LogisticRegression(**lr_best_params),\n",
    "        SVC(**svm_best_params),\n",
    "        RandomForestClassifier(**rf_best_params),\n",
    "        AdaBoostClassifier(**ab_best_params)\n",
    "    ]\n",
    "\n",
    "    return opt_model\n"
   ]
  },
  {
   "cell_type": "markdown",
   "metadata": {},
   "source": [
    "## Testing"
   ]
  },
  {
   "cell_type": "code",
   "execution_count": null,
   "metadata": {},
   "outputs": [],
   "source": [
    "def test(model, X_train, y_train, X_test, y_test):\n",
    "    model.fit(X_train, y_train)\n",
    "    \n",
    "    y_pred_test = model.predict(X_test)\n",
    "\n",
    "    return accuracy_score(y_pred_test, y_test)"
   ]
  },
  {
   "cell_type": "markdown",
   "metadata": {},
   "source": [
    "## FINAL PLOT"
   ]
  },
  {
   "cell_type": "code",
   "execution_count": null,
   "metadata": {},
   "outputs": [],
   "source": [
    "def final_plot(mse_values):\n",
    "    plt.figure(figsize=(10, 6))\n",
    "    plt.bar(MODEL_LIST, mse_values, color='skyblue')\n",
    "    plt.xlabel('Models')\n",
    "    plt.ylabel('Mean Squared Error (MSE)')\n",
    "    plt.title('Mean Squared Error Comparison of Models')\n",
    "    plt.xticks(rotation=45)  \n",
    "    plt.grid(axis='y', linestyle='--', alpha=0.7)\n",
    "    plt.tight_layout()\n",
    "    plt.show()\n"
   ]
  },
  {
   "cell_type": "markdown",
   "metadata": {},
   "source": [
    "## Save model"
   ]
  },
  {
   "cell_type": "code",
   "execution_count": null,
   "metadata": {},
   "outputs": [],
   "source": [
    "def save_model(model_name, model):\n",
    "    with open('./model/{}.pkl'.format(model_name), 'wb') as f:\n",
    "        pickle.dump(model, f)"
   ]
  },
  {
   "cell_type": "markdown",
   "metadata": {},
   "source": [
    "# RUN IT!"
   ]
  },
  {
   "cell_type": "code",
   "execution_count": null,
   "metadata": {},
   "outputs": [],
   "source": [
    "data = process_data()\n",
    "X_train, y_train, X_test, y_test = split_data(data)\n",
    "\n",
    "lr = LogisticRegression(n_jobs = -1)\n",
    "svm = SVC(random_state = SEED)\n",
    "rf =  RandomForestClassifier(n_jobs = -1, random_state = SEED)\n",
    "ab = AdaBoostClassifier(random_state = SEED)\n",
    "\n",
    "models = [lr, svm, rf, ab]\n",
    "\n",
    "init_models = basic_train(models, X_train, y_train, is_plot=False)\n",
    "ft_models = gs_train(init_models, X_train, y_train, is_plot=False)      \n",
    "\n",
    "# 0 is Linear Regression\n",
    "# 1 is Support Vector Classifier\n",
    "# 2 is Random Forest Classifier\n",
    "# 3 is AdaBoost Classifier\n",
    "final_result = []\n",
    "for model in ft_models:\n",
    "    final_result.append(test(model, X_train, y_train, X_test, y_test))\n",
    "\n",
    "save_model('ev_golf', models[0])\n",
    "save_model('mitsubishi', models[1])\n",
    "save_model('renault', models[2])\n",
    "save_model('tesla', models[3])"
   ]
  }
 ],
 "metadata": {
  "kernelspec": {
   "display_name": "base",
   "language": "python",
   "name": "python3"
  },
  "language_info": {
   "codemirror_mode": {
    "name": "ipython",
    "version": 3
   },
   "file_extension": ".py",
   "mimetype": "text/x-python",
   "name": "python",
   "nbconvert_exporter": "python",
   "pygments_lexer": "ipython3",
   "version": "3.11.5"
  }
 },
 "nbformat": 4,
 "nbformat_minor": 2
}
